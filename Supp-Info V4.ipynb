{
 "cells": [
  {
   "cell_type": "raw",
   "id": "ab4642ad",
   "metadata": {
    "ExecuteTime": {
     "end_time": "2024-11-21T13:08:44.274843Z",
     "start_time": "2024-11-21T13:08:44.271913Z"
    }
   },
   "source": [
    "---\n",
    "execute:\n",
    "    enabled: true\n",
    "    echo: false\n",
    "---\n",
    "<!--        \n",
    "\n",
    "This file is to be processed using quarto ( www.quarto.org )\n",
    "\n",
    "Reste à faire:\n",
    "    - changer le texte du T1 pour coller à la nouvelle image\n",
    "    - rajouter toothpaste\n",
    "\n",
    "eventuellement\n",
    "    - changer l'ordre\n",
    "    - renuméroter dans le texte principal\n",
    "\n",
    "options possibles à remonter dans pdf:\n",
    "format:\n",
    "    pdf:\n",
    "        documentclass: article\n",
    "        pdf-engine: pdflatex\n",
    "        fontfamily: TeX Gyre Heros\n",
    "-->"
   ]
  },
  {
   "cell_type": "markdown",
   "id": "976539fe",
   "metadata": {},
   "source": [
    "# Supporting Information\n",
    "\n",
    "# qNMR fluorine pollution analysis:   \\newline perspectives on PFAS exposure characterization using ^19^F NMR\n",
    "\n",
    "*Laura Duciel, Julia Asencio Hernàndez, Marc-André Delsuc, Anne Briot-Dietsch^\\*^*\n",
    "\n",
    "**Corresponding author**   \n",
    "**Anne Briot-Dietsch**   \n",
    "**E-mail: anne.briot-dietsch@casc4de.eu**\n",
    "\n",
    "### This PDF file includes:\n",
    "Supporting text   \n",
    "Figs. S1 to S10\n",
    "Tables ST1 ST2\n",
    "\n",
    "Licence : [CreativeCommon CC BY-SA 4.0](https://creativecommons.org/licenses/by-sa/4.0/) ![](https://licensebuttons.net/i/l/by-sa/ffffff/00/00/00/88x31.png) \n",
    "\n",
    "{{< pagebreak >}}"
   ]
  },
  {
   "cell_type": "code",
   "execution_count": 2,
   "id": "4c47ea67",
   "metadata": {
    "ExecuteTime": {
     "end_time": "2025-04-08T08:23:43.223290Z",
     "start_time": "2025-04-08T08:23:42.667076Z"
    }
   },
   "outputs": [],
   "source": [
    "import math as m\n",
    "import pandas as pd\n",
    "import matplotlib.pylab as plt\n",
    "from matplotlib.ticker import MaxNLocator\n",
    "import numpy as np\n",
    "from IPython.display import display, Markdown \n",
    "\n",
    "Fig = 1"
   ]
  },
  {
   "cell_type": "code",
   "execution_count": 3,
   "id": "28941efc",
   "metadata": {
    "ExecuteTime": {
     "end_time": "2025-04-08T08:23:43.229772Z",
     "start_time": "2025-04-08T08:23:43.224734Z"
    }
   },
   "outputs": [
    {
     "data": {
      "text/markdown": [
       "{{< pagebreak >}}"
      ],
      "text/plain": [
       "<IPython.core.display.Markdown object>"
      ]
     },
     "metadata": {},
     "output_type": "display_data"
    },
    {
     "data": {
      "text/markdown": [
       "# Fig-S1 Measure of T~1~ on PFOA"
      ],
      "text/plain": [
       "<IPython.core.display.Markdown object>"
      ]
     },
     "metadata": {},
     "output_type": "display_data"
    }
   ],
   "source": [
    "display(Markdown('{{< pagebreak >}}'))\n",
    "display(Markdown(f'# Fig-S{Fig} Measure of T~1~ on PFOA')) \n",
    "Fig += 1"
   ]
  },
  {
   "cell_type": "markdown",
   "id": "9a710b77",
   "metadata": {},
   "source": [
    "Inversion Recovery (IR) curve fits to determine longitudinal relaxation time T~1~ for different kind of nuclear spins in fluorinated moieties -CH~3~ -CH~2~ in the PFOA molecule.\n",
    "\n",
    "![](T1_curves.pdf)\n",
    "\n",
    "![](courbes_T1_PFOA.pdf)\n",
    "\n",
    "    A  T1:  0.346 ± 0.0 sec  -  R1: 2.8914 ± 0.0001 sec⁻¹ \n",
    "    B  T1:  0.371 ± 0.0 sec  -  R1: 2.6958 ± 0.0002 sec⁻¹ \n",
    "    C  T1:  0.385 ± 0.0 sec  -  R1: 2.5943 ± 0.0002 sec⁻¹ \n",
    "    D  T1:  0.396 ± 0.0 sec  -  R1: 2.5242 ± 0.0001 sec⁻¹ \n",
    "    E  T1:  0.414 ± 0.0 sec  -  R1: 2.4149 ± 0.0001 sec⁻¹ \n",
    "    F  T1:  0.498 ± 0.0 sec  -  R1: 2.0064 ± 0.0001 sec⁻¹ \n",
    "    G  T1:  0.859 ± 0.0 sec  -  R1: 1.1641 ± 0.0 sec⁻¹ \n",
    "\n",
    "The -CH~2~ moiety located alpha to the functional group experiences the fastest longitudinal relaxation at $T_1A = 0.346\\ s$ and the -CF~3~ moiety presents the longest T~1~ at $T_1G = 0.859\\ s$"
   ]
  },
  {
   "cell_type": "markdown",
   "id": "7d583b0d",
   "metadata": {
    "ExecuteTime": {
     "end_time": "2024-11-21T13:12:31.517696Z",
     "start_time": "2024-11-21T13:12:31.514276Z"
    }
   },
   "source": [
    "\n",
    "{{< pagebreak >}}\n",
    "\n",
    "# Computing accuracy and precision,\n",
    "given the flip angle, as a function of $T_1$ and the recovery time.\n",
    "\n",
    "For a given flip angle and a given $T_R$ (recovery time), we can calculate the sensitivity, as a ratio to the full magnetization, and the accuracy computed as the biais against the ideal measure, both expressed in %.\n",
    "\n",
    "This is performed with the two python functions below `seq()` and `snr()`.\n",
    "The results are given in the tables T1 and T2 below, tabulated for varying $T_R / T_1$ and for different flip angles,\n",
    "and shown in **Fig-S2** for all possible values of $T_R / T_1$.\n"
   ]
  },
  {
   "cell_type": "code",
   "execution_count": 4,
   "id": "dd589881",
   "metadata": {
    "ExecuteTime": {
     "end_time": "2025-04-08T08:23:43.234329Z",
     "start_time": "2025-04-08T08:23:43.230605Z"
    }
   },
   "outputs": [],
   "source": [
    "#| echo: true\n",
    "\"\"\"\n",
    "these two functions are used to compute the steady magnetisation\n",
    "and the sensitivity.\n",
    "\n",
    "These two functions are then used to compute the table and the graphic\n",
    "for varying value of TR/T1\n",
    "\"\"\"\n",
    "\n",
    "def seq(flip, Tr, niter=None):\n",
    "    \"\"\"\n",
    "    given flip angle (in °) and Tr recovery time (in multiple of T1)\n",
    "    it simulates the steady state with n iterations (or 10xT1 if n not given) \n",
    "    \"\"\"\n",
    "    M1 = 1.0\n",
    "    if niter == None:\n",
    "        niter = int(10/Tr +1)\n",
    "    for i in range(niter):\n",
    "        Mo = M1*m.cos((m.pi*flip)/180) # reste sur z après le pulse\n",
    "        M1 = 1 - (1 - Mo)*m.exp(-Tr)  # sur z après Tr\n",
    "    return M1\n",
    "\n",
    "def snr(flip, Tr):\n",
    "    \"in % computed for a total acquisition time of 100 T1 (as NS is prop to Tr !)\"\n",
    "    Mx = seq(flip, Tr)*m.sin(m.pi*flip/180)\n",
    "    return 100*Mx*m.sqrt(2/Tr)\n"
   ]
  },
  {
   "cell_type": "code",
   "execution_count": 5,
   "id": "d7bd37d6",
   "metadata": {
    "ExecuteTime": {
     "end_time": "2025-04-08T08:23:43.254264Z",
     "start_time": "2025-04-08T08:23:43.235548Z"
    }
   },
   "outputs": [
    {
     "data": {
      "text/markdown": [
       "\n",
       "{{< pagebreak >}}\n",
       "\n",
       "# Table ST1\n",
       "## Accuracy in %\n",
       "for varying pulse flip angle and varying $T_R/T_1$"
      ],
      "text/plain": [
       "<IPython.core.display.Markdown object>"
      ]
     },
     "metadata": {},
     "output_type": "display_data"
    },
    {
     "data": {
      "text/html": [
       "<div>\n",
       "<style scoped>\n",
       "    .dataframe tbody tr th:only-of-type {\n",
       "        vertical-align: middle;\n",
       "    }\n",
       "\n",
       "    .dataframe tbody tr th {\n",
       "        vertical-align: top;\n",
       "    }\n",
       "\n",
       "    .dataframe thead th {\n",
       "        text-align: right;\n",
       "    }\n",
       "</style>\n",
       "<table border=\"1\" class=\"dataframe\">\n",
       "  <thead>\n",
       "    <tr style=\"text-align: right;\">\n",
       "      <th></th>\n",
       "      <th>TR/T1</th>\n",
       "      <th>90°</th>\n",
       "      <th>60°</th>\n",
       "      <th>45°</th>\n",
       "      <th>30°</th>\n",
       "      <th>20°</th>\n",
       "    </tr>\n",
       "  </thead>\n",
       "  <tbody>\n",
       "    <tr>\n",
       "      <th>0</th>\n",
       "      <td>0.5</td>\n",
       "      <td>39.347</td>\n",
       "      <td>56.473</td>\n",
       "      <td>68.895</td>\n",
       "      <td>82.883</td>\n",
       "      <td>91.494</td>\n",
       "    </tr>\n",
       "    <tr>\n",
       "      <th>1</th>\n",
       "      <td>0.7</td>\n",
       "      <td>50.341</td>\n",
       "      <td>66.970</td>\n",
       "      <td>77.584</td>\n",
       "      <td>88.327</td>\n",
       "      <td>94.385</td>\n",
       "    </tr>\n",
       "    <tr>\n",
       "      <th>2</th>\n",
       "      <td>1.0</td>\n",
       "      <td>63.212</td>\n",
       "      <td>77.460</td>\n",
       "      <td>85.437</td>\n",
       "      <td>92.767</td>\n",
       "      <td>96.609</td>\n",
       "    </tr>\n",
       "    <tr>\n",
       "      <th>3</th>\n",
       "      <td>1.4</td>\n",
       "      <td>75.340</td>\n",
       "      <td>85.936</td>\n",
       "      <td>91.252</td>\n",
       "      <td>95.799</td>\n",
       "      <td>98.064</td>\n",
       "    </tr>\n",
       "    <tr>\n",
       "      <th>4</th>\n",
       "      <td>2.0</td>\n",
       "      <td>86.466</td>\n",
       "      <td>92.742</td>\n",
       "      <td>95.617</td>\n",
       "      <td>97.946</td>\n",
       "      <td>99.065</td>\n",
       "    </tr>\n",
       "    <tr>\n",
       "      <th>5</th>\n",
       "      <td>2.5</td>\n",
       "      <td>91.792</td>\n",
       "      <td>95.720</td>\n",
       "      <td>97.448</td>\n",
       "      <td>98.816</td>\n",
       "      <td>99.464</td>\n",
       "    </tr>\n",
       "    <tr>\n",
       "      <th>6</th>\n",
       "      <td>3.0</td>\n",
       "      <td>95.021</td>\n",
       "      <td>97.447</td>\n",
       "      <td>98.489</td>\n",
       "      <td>99.303</td>\n",
       "      <td>99.685</td>\n",
       "    </tr>\n",
       "    <tr>\n",
       "      <th>7</th>\n",
       "      <td>3.5</td>\n",
       "      <td>96.980</td>\n",
       "      <td>98.467</td>\n",
       "      <td>99.096</td>\n",
       "      <td>99.585</td>\n",
       "      <td>99.813</td>\n",
       "    </tr>\n",
       "    <tr>\n",
       "      <th>8</th>\n",
       "      <td>4.0</td>\n",
       "      <td>98.168</td>\n",
       "      <td>99.076</td>\n",
       "      <td>99.457</td>\n",
       "      <td>99.751</td>\n",
       "      <td>99.888</td>\n",
       "    </tr>\n",
       "    <tr>\n",
       "      <th>9</th>\n",
       "      <td>5.0</td>\n",
       "      <td>99.326</td>\n",
       "      <td>99.662</td>\n",
       "      <td>99.802</td>\n",
       "      <td>99.909</td>\n",
       "      <td>99.959</td>\n",
       "    </tr>\n",
       "    <tr>\n",
       "      <th>10</th>\n",
       "      <td>6.0</td>\n",
       "      <td>99.752</td>\n",
       "      <td>99.876</td>\n",
       "      <td>99.927</td>\n",
       "      <td>99.967</td>\n",
       "      <td>99.985</td>\n",
       "    </tr>\n",
       "    <tr>\n",
       "      <th>11</th>\n",
       "      <td>7.0</td>\n",
       "      <td>99.909</td>\n",
       "      <td>99.954</td>\n",
       "      <td>99.973</td>\n",
       "      <td>99.988</td>\n",
       "      <td>99.994</td>\n",
       "    </tr>\n",
       "    <tr>\n",
       "      <th>12</th>\n",
       "      <td>8.0</td>\n",
       "      <td>99.966</td>\n",
       "      <td>99.983</td>\n",
       "      <td>99.990</td>\n",
       "      <td>99.996</td>\n",
       "      <td>99.998</td>\n",
       "    </tr>\n",
       "    <tr>\n",
       "      <th>13</th>\n",
       "      <td>9.0</td>\n",
       "      <td>99.988</td>\n",
       "      <td>99.994</td>\n",
       "      <td>99.996</td>\n",
       "      <td>99.998</td>\n",
       "      <td>99.999</td>\n",
       "    </tr>\n",
       "    <tr>\n",
       "      <th>14</th>\n",
       "      <td>10.0</td>\n",
       "      <td>99.995</td>\n",
       "      <td>99.998</td>\n",
       "      <td>99.999</td>\n",
       "      <td>99.999</td>\n",
       "      <td>100.000</td>\n",
       "    </tr>\n",
       "  </tbody>\n",
       "</table>\n",
       "</div>"
      ],
      "text/plain": [
       "    TR/T1     90°     60°     45°     30°      20°\n",
       "0     0.5  39.347  56.473  68.895  82.883   91.494\n",
       "1     0.7  50.341  66.970  77.584  88.327   94.385\n",
       "2     1.0  63.212  77.460  85.437  92.767   96.609\n",
       "3     1.4  75.340  85.936  91.252  95.799   98.064\n",
       "4     2.0  86.466  92.742  95.617  97.946   99.065\n",
       "5     2.5  91.792  95.720  97.448  98.816   99.464\n",
       "6     3.0  95.021  97.447  98.489  99.303   99.685\n",
       "7     3.5  96.980  98.467  99.096  99.585   99.813\n",
       "8     4.0  98.168  99.076  99.457  99.751   99.888\n",
       "9     5.0  99.326  99.662  99.802  99.909   99.959\n",
       "10    6.0  99.752  99.876  99.927  99.967   99.985\n",
       "11    7.0  99.909  99.954  99.973  99.988   99.994\n",
       "12    8.0  99.966  99.983  99.990  99.996   99.998\n",
       "13    9.0  99.988  99.994  99.996  99.998   99.999\n",
       "14   10.0  99.995  99.998  99.999  99.999  100.000"
      ]
     },
     "metadata": {},
     "output_type": "display_data"
    },
    {
     "data": {
      "text/markdown": [
       "\n",
       "{{< pagebreak >}}\n",
       "\n",
       "# Table ST2\n",
       "## Relative sensibility in %\n",
       "for varying pulse flip angle and varying $T_R/T_1$"
      ],
      "text/plain": [
       "<IPython.core.display.Markdown object>"
      ]
     },
     "metadata": {},
     "output_type": "display_data"
    },
    {
     "data": {
      "text/html": [
       "<div>\n",
       "<style scoped>\n",
       "    .dataframe tbody tr th:only-of-type {\n",
       "        vertical-align: middle;\n",
       "    }\n",
       "\n",
       "    .dataframe tbody tr th {\n",
       "        vertical-align: top;\n",
       "    }\n",
       "\n",
       "    .dataframe thead th {\n",
       "        text-align: right;\n",
       "    }\n",
       "</style>\n",
       "<table border=\"1\" class=\"dataframe\">\n",
       "  <thead>\n",
       "    <tr style=\"text-align: right;\">\n",
       "      <th></th>\n",
       "      <th>TR/T1</th>\n",
       "      <th>90°</th>\n",
       "      <th>60°</th>\n",
       "      <th>45°</th>\n",
       "      <th>30°</th>\n",
       "      <th>20°</th>\n",
       "    </tr>\n",
       "  </thead>\n",
       "  <tbody>\n",
       "    <tr>\n",
       "      <th>0</th>\n",
       "      <td>0.5</td>\n",
       "      <td>78.69</td>\n",
       "      <td>97.81</td>\n",
       "      <td>97.43</td>\n",
       "      <td>82.88</td>\n",
       "      <td>62.59</td>\n",
       "    </tr>\n",
       "    <tr>\n",
       "      <th>1</th>\n",
       "      <td>0.7</td>\n",
       "      <td>85.09</td>\n",
       "      <td>98.03</td>\n",
       "      <td>92.73</td>\n",
       "      <td>74.65</td>\n",
       "      <td>54.57</td>\n",
       "    </tr>\n",
       "    <tr>\n",
       "      <th>2</th>\n",
       "      <td>1.0</td>\n",
       "      <td>89.40</td>\n",
       "      <td>94.87</td>\n",
       "      <td>85.44</td>\n",
       "      <td>65.60</td>\n",
       "      <td>46.73</td>\n",
       "    </tr>\n",
       "    <tr>\n",
       "      <th>3</th>\n",
       "      <td>1.4</td>\n",
       "      <td>90.05</td>\n",
       "      <td>88.95</td>\n",
       "      <td>77.12</td>\n",
       "      <td>57.25</td>\n",
       "      <td>40.09</td>\n",
       "    </tr>\n",
       "    <tr>\n",
       "      <th>4</th>\n",
       "      <td>2.0</td>\n",
       "      <td>86.47</td>\n",
       "      <td>80.32</td>\n",
       "      <td>67.61</td>\n",
       "      <td>48.97</td>\n",
       "      <td>33.88</td>\n",
       "    </tr>\n",
       "    <tr>\n",
       "      <th>5</th>\n",
       "      <td>2.5</td>\n",
       "      <td>82.10</td>\n",
       "      <td>74.14</td>\n",
       "      <td>61.63</td>\n",
       "      <td>44.19</td>\n",
       "      <td>30.43</td>\n",
       "    </tr>\n",
       "    <tr>\n",
       "      <th>6</th>\n",
       "      <td>3.0</td>\n",
       "      <td>77.58</td>\n",
       "      <td>68.91</td>\n",
       "      <td>56.86</td>\n",
       "      <td>40.54</td>\n",
       "      <td>27.84</td>\n",
       "    </tr>\n",
       "    <tr>\n",
       "      <th>7</th>\n",
       "      <td>3.5</td>\n",
       "      <td>73.31</td>\n",
       "      <td>64.46</td>\n",
       "      <td>52.97</td>\n",
       "      <td>37.64</td>\n",
       "      <td>25.81</td>\n",
       "    </tr>\n",
       "    <tr>\n",
       "      <th>8</th>\n",
       "      <td>4.0</td>\n",
       "      <td>69.42</td>\n",
       "      <td>60.67</td>\n",
       "      <td>49.73</td>\n",
       "      <td>35.27</td>\n",
       "      <td>24.16</td>\n",
       "    </tr>\n",
       "    <tr>\n",
       "      <th>9</th>\n",
       "      <td>5.0</td>\n",
       "      <td>62.82</td>\n",
       "      <td>54.59</td>\n",
       "      <td>44.63</td>\n",
       "      <td>31.59</td>\n",
       "      <td>21.62</td>\n",
       "    </tr>\n",
       "    <tr>\n",
       "      <th>10</th>\n",
       "      <td>6.0</td>\n",
       "      <td>57.59</td>\n",
       "      <td>49.94</td>\n",
       "      <td>40.80</td>\n",
       "      <td>28.86</td>\n",
       "      <td>19.74</td>\n",
       "    </tr>\n",
       "    <tr>\n",
       "      <th>11</th>\n",
       "      <td>7.0</td>\n",
       "      <td>53.40</td>\n",
       "      <td>46.27</td>\n",
       "      <td>37.79</td>\n",
       "      <td>26.72</td>\n",
       "      <td>18.28</td>\n",
       "    </tr>\n",
       "    <tr>\n",
       "      <th>12</th>\n",
       "      <td>8.0</td>\n",
       "      <td>49.98</td>\n",
       "      <td>43.29</td>\n",
       "      <td>35.35</td>\n",
       "      <td>25.00</td>\n",
       "      <td>17.10</td>\n",
       "    </tr>\n",
       "    <tr>\n",
       "      <th>13</th>\n",
       "      <td>9.0</td>\n",
       "      <td>47.13</td>\n",
       "      <td>40.82</td>\n",
       "      <td>33.33</td>\n",
       "      <td>23.57</td>\n",
       "      <td>16.12</td>\n",
       "    </tr>\n",
       "    <tr>\n",
       "      <th>14</th>\n",
       "      <td>10.0</td>\n",
       "      <td>44.72</td>\n",
       "      <td>38.73</td>\n",
       "      <td>31.62</td>\n",
       "      <td>22.36</td>\n",
       "      <td>15.30</td>\n",
       "    </tr>\n",
       "  </tbody>\n",
       "</table>\n",
       "</div>"
      ],
      "text/plain": [
       "    TR/T1    90°    60°    45°    30°    20°\n",
       "0     0.5  78.69  97.81  97.43  82.88  62.59\n",
       "1     0.7  85.09  98.03  92.73  74.65  54.57\n",
       "2     1.0  89.40  94.87  85.44  65.60  46.73\n",
       "3     1.4  90.05  88.95  77.12  57.25  40.09\n",
       "4     2.0  86.47  80.32  67.61  48.97  33.88\n",
       "5     2.5  82.10  74.14  61.63  44.19  30.43\n",
       "6     3.0  77.58  68.91  56.86  40.54  27.84\n",
       "7     3.5  73.31  64.46  52.97  37.64  25.81\n",
       "8     4.0  69.42  60.67  49.73  35.27  24.16\n",
       "9     5.0  62.82  54.59  44.63  31.59  21.62\n",
       "10    6.0  57.59  49.94  40.80  28.86  19.74\n",
       "11    7.0  53.40  46.27  37.79  26.72  18.28\n",
       "12    8.0  49.98  43.29  35.35  25.00  17.10\n",
       "13    9.0  47.13  40.82  33.33  23.57  16.12\n",
       "14   10.0  44.72  38.73  31.62  22.36  15.30"
      ]
     },
     "metadata": {},
     "output_type": "display_data"
    }
   ],
   "source": [
    "Sig = {}\n",
    "Sens = {}\n",
    "Sens[\"TR/T1\"] = [0.5,0.7,1,1.4,2,2.5,3,3.5] + list(range(4,11))\n",
    "Sig[\"TR/T1\"] = Sens[\"TR/T1\"]\n",
    "for P in (90, 60, 45, 30, 20):\n",
    "    curr = f\"{P}°\"\n",
    "    Sens[curr] = []\n",
    "    Sig[curr] = []\n",
    "    for Tr in Sens[\"TR/T1\"]:\n",
    "        Sig[curr].append( round(seq(P, Tr)*100,3) )\n",
    "        Sens[curr].append( round(snr(P,Tr),2) )\n",
    "display(Markdown(r'''\n",
    "{{< pagebreak >}}\n",
    "\n",
    "# Table ST1\n",
    "## Accuracy in %\n",
    "for varying pulse flip angle and varying $T_R/T_1$'''))\n",
    "\n",
    "display(pd.DataFrame(Sig))\n",
    "\n",
    "display(Markdown(r'''\n",
    "{{< pagebreak >}}\n",
    "\n",
    "# Table ST2\n",
    "## Relative sensibility in %\n",
    "for varying pulse flip angle and varying $T_R/T_1$'''))\n",
    "\n",
    "display(pd.DataFrame(Sens))"
   ]
  },
  {
   "cell_type": "markdown",
   "id": "334040af",
   "metadata": {
    "ExecuteTime": {
     "end_time": "2024-11-21T13:12:31.517696Z",
     "start_time": "2024-11-21T13:12:31.514276Z"
    }
   },
   "source": [
    "From these tables, for a given sample, we consider\n",
    "\n",
    "- the molecule's longest $T_1 : T_1^M$.\n",
    "- the acceptable error rate\n",
    "\n",
    "then choose in table ST1 the $T_R / T_1$ line where this error rate is found, either at 90° or at a lower angle $\\Rightarrow$ this determines $\\alpha = T_R / T_1$\n",
    "\n",
    "Finally, given an acquisition time $AQ$ one can set $D1$ such that $T_R = D1 + AQ = \\alpha \\times T_1^M$."
   ]
  },
  {
   "cell_type": "code",
   "execution_count": 6,
   "id": "e4e86424",
   "metadata": {
    "ExecuteTime": {
     "end_time": "2025-04-08T08:23:43.723760Z",
     "start_time": "2025-04-08T08:23:43.255121Z"
    }
   },
   "outputs": [
    {
     "data": {
      "text/markdown": [
       "{{< pagebreak >}}"
      ],
      "text/plain": [
       "<IPython.core.display.Markdown object>"
      ]
     },
     "metadata": {},
     "output_type": "display_data"
    },
    {
     "data": {
      "text/markdown": [
       "# Fig-S2 Graphical output"
      ],
      "text/plain": [
       "<IPython.core.display.Markdown object>"
      ]
     },
     "metadata": {},
     "output_type": "display_data"
    },
    {
     "data": {
      "text/markdown": [
       "Accuracy and Relative sensitivity, expressed in % for different pulse flip angle versus $T_R/T_1$"
      ],
      "text/plain": [
       "<IPython.core.display.Markdown object>"
      ]
     },
     "metadata": {},
     "output_type": "display_data"
    },
    {
     "data": {
      "image/png": "[encoded data removed]",
      "text/plain": [
       "<Figure size 600x800 with 2 Axes>"
      ]
     },
     "metadata": {},
     "output_type": "display_data"
    }
   ],
   "source": [
    "import matplotlib.pyplot as plt\n",
    "%matplotlib inline\n",
    "import numpy as np\n",
    "display(Markdown('{{< pagebreak >}}'))\n",
    "display(Markdown(f'# Fig-S{Fig} Graphical output'))\n",
    "Fig += 1\n",
    "\n",
    "def percent(val,pos):\n",
    "    return f\"{val} %\"\n",
    "fig,(ax1,ax2) = plt.subplots(nrows=2, figsize=(6,8))#, sharex=True)\n",
    "TTr = np.linspace(0.05,6,200)\n",
    "for P in (90, 60, 45, 30, 20):\n",
    "    curr = f\"{P}°\"\n",
    "    Sens[curr] = []\n",
    "    Sig[curr] = []\n",
    "    for Tr in TTr:\n",
    "        Sig[curr].append( round(seq(P, Tr)*100,3) )\n",
    "        Sens[curr].append( round(snr(P,Tr),2) )\n",
    "    ax1.plot(TTr,Sig[curr],label=curr, xunits='%',)\n",
    "    ax2.plot(TTr,Sens[curr],label=curr)\n",
    "ax1.set_ylabel('Accuracy')\n",
    "ax1.yaxis.set_major_formatter(percent)\n",
    "ax1.set_ylim(ymin=90, ymax=101)\n",
    "ax2.set_ylabel('Relative Sensitivity')\n",
    "ax2.yaxis.set_major_formatter(percent)\n",
    "ax2.set_xlabel(r'$T_R/T_1$')\n",
    "ax1.set_xlim(xmax=6)\n",
    "ax2.set_xlim(xmax=6)\n",
    "ax2.set_ylim(ymax=100)\n",
    "\n",
    "for acc in (99, 97.5, 95):\n",
    "    ax1.plot([0,6],[acc,acc],':k')\n",
    "    ax1.text(0.1,acc+0.2, f'{acc}% accuracy')\n",
    "\n",
    "#fig.set_tight_layout(True)\n",
    "ax1.legend();\n",
    "ax2.legend();\n",
    "display(Markdown(f'Accuracy and Relative sensitivity, expressed in % for different pulse flip angle versus $T_R/T_1$'))\n"
   ]
  },
  {
   "cell_type": "markdown",
   "id": "e6d01c9a",
   "metadata": {},
   "source": [
    "{{< pagebreak >}}\n",
    "# Robustness of the OPERA-45 sequence vs miss-calibration"
   ]
  },
  {
   "cell_type": "code",
   "execution_count": 7,
   "id": "48adae5b",
   "metadata": {
    "ExecuteTime": {
     "end_time": "2025-04-08T08:23:43.728405Z",
     "start_time": "2025-04-08T08:23:43.725329Z"
    }
   },
   "outputs": [
    {
     "data": {
      "text/markdown": [
       "# Fig-S3 Power miss-calibration"
      ],
      "text/plain": [
       "<IPython.core.display.Markdown object>"
      ]
     },
     "metadata": {},
     "output_type": "display_data"
    }
   ],
   "source": [
    "display(Markdown(f'# Fig-S{Fig} Power miss-calibration'))\n",
    "Fig += 1 "
   ]
  },
  {
   "cell_type": "markdown",
   "id": "427da886",
   "metadata": {
    "ExecuteTime": {
     "end_time": "2025-02-12T10:16:38.220308Z",
     "start_time": "2025-02-12T10:16:38.097310Z"
    }
   },
   "source": [
    "![](offfset_dependnacemiscalib.png)\n",
    "\n",
    "Experimental excitation profile measured by moving the carrier frequency of the OPERA-45 pulse on a 1mM PFOA sample in DMSO in optimized conditions, measure on the -CF~3~.\n",
    "\n",
    "- **blue**: calibrated pulse\n",
    "- **red**: 3\\ dB miss-calibration of the B~1~ field *(30% error on the B~1~ amplitude)*\n",
    "- **green**: 6\\ dB miss-calibration of the B~1~ field *(50% error on the B~1~ amplitude)*\n",
    "\n",
    "The excitation remains consistent across a 100\\ kHz range of frequencies,\n",
    "with fluctuation that do not exceed 1.5% in intensity for the 3\\ dB missmatch and 3.5% for the 6\\ dB missmatch.\n",
    "    No phase distortion is observed in the 100\\ kHz spectral range."
   ]
  },
  {
   "cell_type": "markdown",
   "id": "b5cf692e-69a7-475c-896b-d8e44e59f475",
   "metadata": {
    "ExecuteTime": {
     "end_time": "2024-11-21T13:16:23.569939Z",
     "start_time": "2024-11-21T13:16:23.568006Z"
    }
   },
   "source": [
    "{{< pagebreak >}}\n",
    "\n",
    "# 2D PULSE SEQUENCES\n",
    "\n",
    "Here we present graphically the various NMR pulse sequences used in this study. "
   ]
  },
  {
   "cell_type": "code",
   "execution_count": 8,
   "id": "82911db0",
   "metadata": {
    "ExecuteTime": {
     "end_time": "2025-04-08T08:23:43.735019Z",
     "start_time": "2025-04-08T08:23:43.729727Z"
    }
   },
   "outputs": [],
   "source": [
    "# read OPERA shape\n",
    "Amp = []\n",
    "Phase = []\n",
    "with open(\"PulseShapeFiles/OPERA-45\") as F:\n",
    "    for l in F:\n",
    "        if not l.startswith('#'):\n",
    "            a,p = [float(i) for i in l.split(',')]\n",
    "            Amp.append(a)\n",
    "            Phase.append(p)\n",
    "Time = np.arange(0,80,80/len(Amp))  # 80 usec\n",
    "Amp = np.array(Amp)*14.0/100.0      # 100% at 14kHz\n",
    "Phase = np.array(Phase)\n",
    "Phase = np.where(Phase>270, Phase-360, Phase) # fold back 360°-eps phases \n"
   ]
  },
  {
   "cell_type": "code",
   "execution_count": 9,
   "id": "49f5fb94",
   "metadata": {
    "ExecuteTime": {
     "end_time": "2025-04-08T08:23:43.746246Z",
     "start_time": "2025-04-08T08:23:43.737101Z"
    }
   },
   "outputs": [],
   "source": [
    "# define tools\n",
    "\n",
    "mult = 2e-4        # time mult for display pulse us to delay s\n",
    "acol = 'black'\n",
    "\n",
    "def p90(ax, x,y,\n",
    "    pmult = 1.2,     # intensity\n",
    "    dp90 = 20,       # duration\n",
    "       ):\n",
    "    pp90 = pmult*np.array([0,1,1, 0]) +y\n",
    "    tp90 = mult*np.array([0,0,dp90,dp90]) +x\n",
    "    ax.fill_between(tp90,pp90,y,color=acol)\n",
    "    return dp90*mult\n",
    "\n",
    "\n",
    "def gradient(ax, x,y,duration,\n",
    "    gmult = 0.8     # intensity\n",
    "            ):\n",
    "    tg = np.linspace(x,x+duration,100)\n",
    "    grad = gmult*np.sin(np.pi*np.arange(100)/100)+y\n",
    "    ax.plot(tg,grad, color='black')\n",
    "    ax.fill_between(tg,grad,y,color='grey')\n",
    "    return duration\n",
    "\n",
    "# fid\n",
    "def fid(ax, x, y, dur=0.15, intens=0.5,damp=40):\n",
    "    tfid = np.linspace(0,dur,1000)\n",
    "    val = intens*np.cos(2000*tfid)*np.exp(-damp*tfid) + y\n",
    "    ax.plot(tfid+x, val, 'k')\n",
    "    return val\n",
    "\n",
    "def chirp(ax, x, y, dur=80, hight=0.5, width=1):\n",
    "    durc = mult*dur\n",
    "    hc = hight\n",
    "    pc = np.array([0,hc,hc, 0]) +y\n",
    "    tpc = np.array([0,0,durc,durc]) +x\n",
    "    ax.plot(tpc,pc,'k')\n",
    "    ax.annotate('', [x+durc,y+hc], [x,y], \\\n",
    "        arrowprops={'width':width,'headwidth':2*width, 'headlength':2*width, 'facecolor':'grey','shrink':0.1})\n",
    "    return durc\n",
    "\n",
    "def decoupl(ax,x,y,amp,dur, yshift=0.08):\n",
    "    ax.fill_between([x,x+dur], [amp+y,amp+y], y,color='grey')\n",
    "    ax.text(x,y+yshift,' Decoupling')\n",
    "\n",
    "def vertline(ax,x,length):\n",
    "    ax.plot([x,x],[0,length],':k')\n",
    "\n",
    "def arrowtext(ax,x,y,length,text, xshift=0, yshift=0.08):\n",
    "    ax.annotate(text='', xy=(x+length, y), xytext=(x,y), ha='center', va='bottom',\n",
    "                arrowprops=dict(arrowstyle='<->'))\n",
    "    ax.text(length/2+x+xshift,y+yshift, text)\n",
    "    return length\n",
    "\n",
    "def initialize(axislist=[ ('¹H',0), ('grad.',1.0)], To=-0.02, Ttot=1.0, figsize=(9,3) ):\n",
    "    \"\"\"\n",
    "    create the scene and returns (fig,ax) as\n",
    "        fig, ax = plt.subplots(figsize=figsize)\n",
    "        would do\n",
    "    axislist is the list of axes names and vertical positions   def: [ ('¹H',0), ('grad.',1.0) ]\n",
    "    To and Ttot are initial and final times                     def: -0.02 and 1.0\n",
    "    figsize                                                     def: (9,3)\n",
    "    \"\"\"\n",
    "    ftsize = 12 \n",
    "    fig, ax = plt.subplots(figsize=figsize)\n",
    "    # create NMR axes\n",
    "    for (name, off) in axislist:\n",
    "        ax.arrow(To, off, Ttot, 0, color='black', lw=0.5, head_width=0.05, head_length=0.005)\n",
    "        ax.text(To, off+0.7, name, fontsize=ftsize)\n",
    "\n",
    "    for side in ['top','left','right','bottom']:\n",
    "        ax.spines[side].set_visible(False)\n",
    "    ax.set_yticks([])\n",
    "    ax.set_xticks([]);\n",
    "\n",
    "    return fig,ax"
   ]
  },
  {
   "cell_type": "code",
   "execution_count": 10,
   "id": "9f8b482b",
   "metadata": {
    "ExecuteTime": {
     "end_time": "2025-04-08T08:23:43.855964Z",
     "start_time": "2025-04-08T08:23:43.747456Z"
    }
   },
   "outputs": [
    {
     "data": {
      "text/markdown": [
       "# Fig-S4 ^19^F-DOSY"
      ],
      "text/plain": [
       "<IPython.core.display.Markdown object>"
      ]
     },
     "metadata": {},
     "output_type": "display_data"
    },
    {
     "data": {
      "image/png": "[encoded data removed]",
      "text/plain": [
       "<Figure size 900x300 with 1 Axes>"
      ]
     },
     "metadata": {},
     "output_type": "display_data"
    }
   ],
   "source": [
    "display(Markdown(f'# Fig-S{Fig} ^19^F-DOSY'))\n",
    "Fig += 1\n",
    "\n",
    "Ttot = 0.3\n",
    "To = -0.025 #-mult*max(Time)\n",
    "\n",
    "opera = Amp/max(Amp)\n",
    "topera = Time*mult\n",
    "\n",
    "goff = 1.5\n",
    "\n",
    "delta = 2E-2   # in sec\n",
    "Delta = 0.150\n",
    "led = 3e-2\n",
    "\n",
    "fig, ax1 = initialize(axislist=[('¹⁹F',0), ('grad.',goff)], To=To, Ttot=Ttot)\n",
    "    \n",
    "# HERE we do type ny type\n",
    "# pulses\n",
    "toff = 0\n",
    "for off in [0,delta,Delta,delta]:\n",
    "    toff += off\n",
    "    dp90 = p90(ax1, toff,0)\n",
    "\n",
    "toff += led\n",
    "\n",
    "# opera\n",
    "ax1.fill_between(topera+toff,opera,color='black')\n",
    "\n",
    "# gradients\n",
    "toff = 0\n",
    "for off in [0,Delta+delta]:\n",
    "    toff += off\n",
    "    gradient(ax1,toff+dp90,goff,delta-dp90)\n",
    "#    ax1.plot(tg+toff,grad+goff, color='black')\n",
    "#    ax1.fill_between(tg+toff,grad+goff,goff,color='grey')\n",
    "\n",
    "# fid\n",
    "fid(ax1, Delta+2*delta+led+ max(topera), 0)\n",
    "\n",
    "# arrows and texts\n",
    "arrowtext(ax1, dp90/2, 0.5, delta,'δ',xshift=-0.002)\n",
    "\n",
    "arrowtext(ax1, delta+dp90/2, 0.5, Delta,'Δ')\n",
    "\n",
    "arrowtext(ax1, Delta+delta+dp90/2, 0.5, delta,'δ',xshift=-0.002)\n",
    "\n",
    "arrowtext(ax1, Delta+2*delta+dp90/2, 0.5, led,'led',xshift=-0.005)\n",
    "\n",
    "ax1.text(0.24, 0.58, 'fid');\n",
    "#fig.savefig('seqDOSY.pdf')"
   ]
  },
  {
   "cell_type": "markdown",
   "id": "bcaabff1",
   "metadata": {},
   "source": [
    "The ^19^F-DOSY is based on the standard led ^[Gibbs SJ, Johnson CS. A PFG NMR experiment for accurate\n",
    "diffusion and flow studies in the presence of eddy currents.\n",
    "*J.Magn.Res.(1969)*  1991; **93**(2):395–402. doi:10.1016/0022‐2364(91)90014‐k] pulse sequence, with only the last reading pulse modified to incorporate the OPERA-45 pulse.\n",
    "The spectral width is thus limited by the 4 strong pulses.\n",
    "These should be 90° pulses, but shorter values can be used to extend the spectral range, with the difficulty of weakening the resulting signal.\n",
    "\n",
    "In this experiment, all delays are kept constant, and the Pulsed Fielf Gradients (PFG) are varied in intensity, ranging from vanishing small to maximum intensities.\n",
    "\n"
   ]
  },
  {
   "cell_type": "code",
   "execution_count": 11,
   "id": "0ec4d3cc",
   "metadata": {
    "ExecuteTime": {
     "end_time": "2025-04-08T08:23:43.862543Z",
     "start_time": "2025-04-08T08:23:43.858245Z"
    }
   },
   "outputs": [
    {
     "data": {
      "text/markdown": [
       "{{< pagebreak >}}"
      ],
      "text/plain": [
       "<IPython.core.display.Markdown object>"
      ]
     },
     "metadata": {},
     "output_type": "display_data"
    },
    {
     "data": {
      "text/markdown": [
       "\n",
       "# Fig-S5 ^19^F DOSY\n",
       "\n",
       "A calibration DOSY spectrum was acquired on a mix made in purpose, composed of\n",
       "PFMOPrA (MW=230D), TFE(MW=100D), and PFOS (MW=500D).\n",
       "Acquisition was performed using 32 gradients linearly sampling from 0.48 to 47.19 G/cm for a total time of 37 minutes.\n",
       "A Laplace transform of performed using the\n",
       "PALMA algorithm^[PALMA, an improved algorithm for DOSY signal processing.\n",
       "Cherni A., Chouzenoux É., Delsuc M-A.\n",
       "(2017) *Analyst* **142** p772--779. doi:10.1039/C6AN01902A],\n",
       "with a Laplace window of 50 to 5000 $\\mu m^2/s$, $\\lambda=0.01$ and 10,000 iterations.\n",
       "The result is shown below.\n",
       "\n",
       "Measured diffusion coefficients are\n",
       "TFE: $720 \\pm 15 \\mu m^2/s$ ,\n",
       "PFMOPrA: $553 \\pm 20 \\mu m^2/s$ ,\n",
       "and\n",
       "PFOS: $488 \\pm 25 \\mu m^2/s$ .\n",
       "\n",
       "\n",
       "![](DOSYplt.png)\n",
       "\n"
      ],
      "text/plain": [
       "<IPython.core.display.Markdown object>"
      ]
     },
     "metadata": {},
     "output_type": "display_data"
    }
   ],
   "source": [
    "display(Markdown('{{< pagebreak >}}'))\n",
    "#print('{{< pagebreak >}}\\n')\n",
    "display(Markdown(f'''\n",
    "# Fig-S{Fig} ^19^F DOSY\n",
    "\n",
    "A calibration DOSY spectrum was acquired on a mix made in purpose, composed of\n",
    "PFMOPrA (MW=230D), TFE(MW=100D), and PFOS (MW=500D).\n",
    "Acquisition was performed using 32 gradients linearly sampling from 0.48 to 47.19 G/cm for a total time of 37 minutes.\n",
    "A Laplace transform of performed using the\n",
    "PALMA algorithm^[PALMA, an improved algorithm for DOSY signal processing.\n",
    "Cherni A., Chouzenoux É., Delsuc M-A.\n",
    "(2017) *Analyst* **142** p772--779. doi:10.1039/C6AN01902A],\n",
    "with a Laplace window of 50 to 5000 $\\mu m^2/s$, $\\lambda=0.01$ and 10,000 iterations.\n",
    "The result is shown below.\n",
    "\n",
    "Measured diffusion coefficients are\n",
    "TFE: $720 \\pm 15 \\mu m^2/s$ ,\n",
    "PFMOPrA: $553 \\pm 20 \\mu m^2/s$ ,\n",
    "and\n",
    "PFOS: $488 \\pm 25 \\mu m^2/s$ .\n",
    "\n",
    "\n",
    "![](DOSYplt.png)\n",
    "\n",
    "'''))\n",
    "\n",
    "\n",
    "Fig += 1\n"
   ]
  },
  {
   "cell_type": "code",
   "execution_count": 12,
   "id": "ad955474",
   "metadata": {
    "ExecuteTime": {
     "end_time": "2025-04-08T08:23:43.966762Z",
     "start_time": "2025-04-08T08:23:43.863765Z"
    }
   },
   "outputs": [
    {
     "name": "stdout",
     "output_type": "stream",
     "text": [
      "{{< pagebreak >}}\n",
      "\n"
     ]
    },
    {
     "data": {
      "text/markdown": [
       "# Fig-S6 ^19^F-^19^F COSY45"
      ],
      "text/plain": [
       "<IPython.core.display.Markdown object>"
      ]
     },
     "metadata": {},
     "output_type": "display_data"
    },
    {
     "data": {
      "image/png": "[encoded data removed]",
      "text/plain": [
       "<Figure size 900x300 with 1 Axes>"
      ]
     },
     "metadata": {},
     "output_type": "display_data"
    }
   ],
   "source": [
    "print('{{< pagebreak >}}\\n')\n",
    "display(Markdown(f'''# Fig-S{Fig} ^19^F-^19^F COSY45'''))\n",
    "\n",
    "Fig += 1\n",
    "\n",
    "# draw \n",
    "# axes\n",
    "To = -0.01 #-mult*max(Time)\n",
    "\n",
    "hoff = 1.5  # 1H offset\n",
    "goff = 3    # gradiens shift\n",
    "\n",
    "fig, ax1 = initialize(axislist=[('¹⁹F',0), ('¹H',hoff), ('grad.',goff)], To=To, Ttot=Ttot)\n",
    "\n",
    "delta = 0.01\n",
    "t1half = 0.04\n",
    "tau = 0.04\n",
    "\n",
    "# HERE we do sequentially\n",
    "\n",
    "off = 0\n",
    "\n",
    "ax1.fill_between(topera+off,opera,color=acol)\n",
    "off +=  max(topera)\n",
    "\n",
    "vertline(ax1,off,goff+0.5)\n",
    "\n",
    "off += arrowtext(ax1, off, 0.5, tau/2,'τ/2',xshift=-0.003)\n",
    "\n",
    "vertline(ax1,off,goff+0.5)\n",
    "\n",
    "off += arrowtext(ax1, off, 0.5, t1half,r'$t_1 / 2$',xshift=-0.005)\n",
    "\n",
    "vertline(ax1,off,goff+0.5)\n",
    "off += p90(ax1, off, hoff,pmult=0.8, dp90=40)\n",
    "vertline(ax1,off,goff+0.5)\n",
    "\n",
    "off += arrowtext(ax1, off, 0.5, t1half, r'$t_1 / 2$',xshift=-0.005)\n",
    "\n",
    "vertline(ax1, off, goff+0.5)\n",
    "off += arrowtext(ax1, off, 0.5, tau/2,'τ/2',xshift=-0.003)\n",
    "vertline(ax1, off, goff+0.5)\n",
    "\n",
    "gradient(ax1, off-delta, goff, delta, gmult=0.2)\n",
    "\n",
    "ax1.fill_between(topera+off,opera,color=acol)\n",
    "off +=  max(topera)\n",
    "\n",
    "off += gradient(ax1,off,goff,delta,gmult=-0.2)\n",
    "\n",
    "fid(ax1,off,0, dur=0.1);\n",
    "decoupl(ax1,off, hoff,0.3,dur=0.1)\n",
    "\n",
    "#fig.savefig('seqCOSY.pdf')\n"
   ]
  },
  {
   "cell_type": "markdown",
   "id": "c6ad1510",
   "metadata": {},
   "source": [
    "The ^19^F-COSY-45 is nearly similar to the standard COSY-45 experiment^[A. BAX and R. FREEMAN. *J.Magn.Reson.* **44**, 542 (1981)],\n",
    "except for the initial pulse which is also an OPERA-45\n",
    "\n",
    "In order to enhance the signal-to-noise on ^1^H-coupled ^19^F molecules, a ^1^H decoupling was added to the sequence by a broad-band decoupling during acquisition and a 180° ^1^H pulse in the middle of the $t_1$ ^19^F evolution.\n",
    "The delay $\\tau$ allows the weaker J-couplings to be expressed as correlation peaks.\n",
    "This is particularly useful, considering the very large F1 spectral width, implying short increments, and the limited number of increments.\n",
    "\n",
    "Two versions of the coherence transfer pathways are possible: the standard anti-echo experiment with the two PFGs having inversed intensity, as presented here; and the echo experiment with both PFGs being equivalent.\n",
    "\n"
   ]
  },
  {
   "cell_type": "code",
   "execution_count": 13,
   "id": "132368a8",
   "metadata": {
    "ExecuteTime": {
     "end_time": "2025-04-08T08:23:43.969647Z",
     "start_time": "2025-04-08T08:23:43.967978Z"
    }
   },
   "outputs": [],
   "source": [
    "\"\"\"\n",
    "\\tau value is \n",
    "  d0\n",
    "  50u setnmr3|0 setnmr0|34|32|33 ctrlgrad 0\n",
    "  p16:gp1\n",
    "  d16 pl12:f2\n",
    "d0 = 0.005\n",
    "50u = 0.00005\n",
    "d16=  0.0003\n",
    "P16 = 0.001 \n",
    "\"\"\";"
   ]
  },
  {
   "cell_type": "code",
   "execution_count": 14,
   "id": "95d4d29b",
   "metadata": {
    "ExecuteTime": {
     "end_time": "2025-04-08T08:23:43.974515Z",
     "start_time": "2025-04-08T08:23:43.970464Z"
    }
   },
   "outputs": [
    {
     "data": {
      "text/markdown": [
       "{{< pagebreak >}}"
      ],
      "text/plain": [
       "<IPython.core.display.Markdown object>"
      ]
     },
     "metadata": {},
     "output_type": "display_data"
    },
    {
     "data": {
      "text/markdown": [
       "\n",
       "# Fig-S7 ^19^F COSY-45 of Vertrel\n"
      ],
      "text/plain": [
       "<IPython.core.display.Markdown object>"
      ]
     },
     "metadata": {},
     "output_type": "display_data"
    }
   ],
   "source": [
    "display(Markdown('{{< pagebreak >}}'))\n",
    "#print('{{< pagebreak >}}\\n')\n",
    "display(Markdown(f'''\n",
    "# Fig-S{Fig} ^19^F COSY-45 of Vertrel\n",
    "'''))\n",
    "\n",
    "Fig += 1\n"
   ]
  },
  {
   "cell_type": "markdown",
   "id": "4e101bff",
   "metadata": {},
   "source": [
    "The COSY-45 was measured on the same 2H,3H‐decafluoropentane sample than the HMQC (see text).\n",
    "Each fid was acquired with a 100\\ kHz spectral width (177.11\\ ppm),\n",
    "with the Digital filtering set to smooth, on 16\\ k points and a 1.85\\ s relaxation delay.\n",
    "The ^19^F excitation pulse was the same OPERA-45 pulse as used in other experiments.\n",
    "The ^1^H refocusing pulse had a duration of $24 \\mu s$.\n",
    "The gradients had a value of 15 G/cm and a $1\\ ms$ duration sine-bell shape.\n",
    "The $\\tau / 2$ value was chosen at $6.35\\ ms$. \n",
    "Four scans were acquired per increment and 2048 increments were performed for a total acquisition time of 4h 30min.\n",
    "\n",
    "\n",
    "![](COSY-45.pdf)\n",
    "The Broad-Band COSY-45 of the Vertel product\n",
    "\n",
    "![](COSY-45-diag.pdf){width=50%}\n",
    "Zoom showing the major and minor forms\n",
    "\n",
    "![](COSY-45-zoom.pdf){width=30%}\n",
    "Zoom showing the 45° effect\n",
    " "
   ]
  },
  {
   "cell_type": "code",
   "execution_count": 15,
   "id": "7efee5a1",
   "metadata": {
    "ExecuteTime": {
     "end_time": "2025-04-08T08:23:43.980410Z",
     "start_time": "2025-04-08T08:23:43.975357Z"
    }
   },
   "outputs": [
    {
     "data": {
      "text/markdown": [
       "\n",
       "# Fig-S8 ^19^F COSY-45 of PFOA\n",
       "\n",
       "A high resolution COSY-45 expermient was performed on PFOA (Per Fluorinated Octanoic Acid).\n",
       "The experiment was performed on 100kHz spectral width on both axes, with 16k points acquisition and 8k increments.\n",
       "Processing was performed in magnitude with sine-bell apodisation and no zerofilling.\n",
       "\n",
       "![](COSYPFOA-25-02-17_15:56:46.pdf)\n",
       "The COSY-45 of PFOA\n",
       "\n",
       "<!-- ![](COSYPFOA-zoom-25-02-17_15:57:20.pdf) -->\n",
       "\n",
       "![](COSY-PFOA-zoom-25-02-17_16:07:39.pdf)\n",
       "Zoom of the CF~2~ region at a lower level, showing the long range couplings\n",
       "\n"
      ],
      "text/plain": [
       "<IPython.core.display.Markdown object>"
      ]
     },
     "metadata": {},
     "output_type": "display_data"
    }
   ],
   "source": [
    "display(Markdown(f'''\n",
    "# Fig-S{Fig} ^19^F COSY-45 of PFOA\n",
    "\n",
    "A high resolution COSY-45 expermient was performed on PFOA (Per Fluorinated Octanoic Acid).\n",
    "The experiment was performed on 100kHz spectral width on both axes, with 16k points acquisition and 8k increments.\n",
    "Processing was performed in magnitude with sine-bell apodisation and no zerofilling.\n",
    "\n",
    "![](COSYPFOA-25-02-17_15:56:46.pdf)\n",
    "The COSY-45 of PFOA\n",
    "\n",
    "<!-- ![](COSYPFOA-zoom-25-02-17_15:57:20.pdf) -->\n",
    "\n",
    "![](COSY-PFOA-zoom-25-02-17_16:07:39.pdf)\n",
    "Zoom of the CF~2~ region at a lower level, showing the long range couplings\n",
    "\n",
    "'''))\n",
    "Fig += 1\n"
   ]
  },
  {
   "cell_type": "code",
   "execution_count": 16,
   "id": "aeabbafa",
   "metadata": {
    "ExecuteTime": {
     "end_time": "2025-04-08T08:23:44.105964Z",
     "start_time": "2025-04-08T08:23:43.981243Z"
    }
   },
   "outputs": [
    {
     "name": "stdout",
     "output_type": "stream",
     "text": [
      "{{< pagebreak >}}\n",
      "\n",
      "\n"
     ]
    },
    {
     "data": {
      "text/markdown": [
       "# Fig-S9 ^19^F-^13^C sofast-HMQC"
      ],
      "text/plain": [
       "<IPython.core.display.Markdown object>"
      ]
     },
     "metadata": {},
     "output_type": "display_data"
    },
    {
     "data": {
      "image/png": "[encoded data removed]",
      "text/plain": [
       "<Figure size 900x300 with 1 Axes>"
      ]
     },
     "metadata": {},
     "output_type": "display_data"
    }
   ],
   "source": [
    "print('{{< pagebreak >}}\\n\\n')\n",
    "display(Markdown(f'# Fig-S{Fig} ^19^F-^13^C sofast-HMQC'))\n",
    "Fig += 1\n",
    "\n",
    " # draw chirp pulse at x,\n",
    "coff = 1.5  # 1H offset\n",
    "goff = 3    # gradiens shift\n",
    "\n",
    "fig, ax1 = initialize(axislist=[('¹⁹F',0), ('¹³C',coff), ('grad.',goff)], To=To, Ttot=Ttot)\n",
    "\n",
    "Jov2 = 0.02  # 1/2J\n",
    "\n",
    "delta = 0.01\n",
    "\n",
    "t1half = 0.04\n",
    "\n",
    "# draw seq\n",
    "off = chirp(ax1,0,0) +0.005\n",
    "\n",
    "ax1.fill_between(topera+off,opera,color=acol)\n",
    "off +=  max(topera)\n",
    "\n",
    "vertline(ax1,off,goff+0.5)\n",
    "\n",
    "off +=  arrowtext(ax1, off, 0.5, Jov2,r'τ',xshift=-0.002)\n",
    "\n",
    "vertline(ax1,off,goff+0.5)\n",
    "\n",
    "off += p90(ax1, off,coff)\n",
    "\n",
    "off += arrowtext(ax1, off, coff+0.5, t1half,r'$t_1 / 2$',xshift=-0.005)\n",
    "\n",
    "vertline(ax1,off,goff+0.5)\n",
    "\n",
    "off += gradient(ax1,off,goff,delta,gmult=0.5)\n",
    "\n",
    "off += chirp(ax1,off,0)\n",
    "\n",
    "off += gradient(ax1,off,goff,delta,gmult=0.3)\n",
    "\n",
    "vertline(ax1,off,goff+0.5)\n",
    "\n",
    "off += arrowtext(ax1, off, coff+0.5, t1half,r'$t_1 / 2$',xshift=-0.005)\n",
    "\n",
    "off += p90(ax1, off,coff)\n",
    "\n",
    "vertline(ax1,off,goff+0.5)\n",
    "gradient(ax1,off,goff,delta,gmult=0.40)\n",
    "off += arrowtext(ax1, off, 0.5, Jov2,r'τ',xshift=-0.002)\n",
    "\n",
    "vertline(ax1,off,goff+0.5)\n",
    "\n",
    "fid(ax1,off,0, dur=0.1);\n",
    "decoupl(ax1,off,coff,0.3,dur=0.1)\n",
    "#fig.savefig('seqHMQC.pdf')"
   ]
  },
  {
   "cell_type": "markdown",
   "id": "745f1fd3",
   "metadata": {},
   "source": [
    "The HMQC sequence contains one excitation pulse implemented here with OPERA-45 and a refocusing pulse implemented here as a frequency swept (chirp) pulse of 1.5\\ msec duration.\n",
    "The $\\tau$ delay allows to select a range of ^19^F-^13^C J-couplings to be observed,\n",
    "we chose $\\tau = \\frac{1}{2J}$ with $J$ = 350\\ Hz.\n",
    "\n",
    "The sofast version^[\n",
    "Schanda,P.;\n",
    "Kup\\v{c}e,E.;\n",
    "Brutscher,B.\n",
    "*J.Biomol.NMR* 2005, **33**,\n",
    "199-211]\n",
    "of the experiment uses a specific excitation pulse to improve the magnetisation steady state, which is implemented here with another chirp pulse just before the excitation pulse.\n",
    "\n",
    "\n",
    "The three selection PFG were implemented with the following intensities of 50%,   30%, 41.27%  \n",
    "\n",
    "{{< pagebreak >}}\n"
   ]
  },
  {
   "cell_type": "code",
   "execution_count": 17,
   "id": "850acbce",
   "metadata": {
    "ExecuteTime": {
     "end_time": "2025-04-08T08:23:44.109943Z",
     "start_time": "2025-04-08T08:23:44.107182Z"
    }
   },
   "outputs": [
    {
     "name": "stdout",
     "output_type": "stream",
     "text": [
      "{{< pagebreak >}}\n",
      "\n",
      "\n"
     ]
    },
    {
     "data": {
      "text/markdown": [
       "# Fig-S10 ^19^F-^13^C sofast-HMQC of PFOA"
      ],
      "text/plain": [
       "<IPython.core.display.Markdown object>"
      ]
     },
     "metadata": {},
     "output_type": "display_data"
    }
   ],
   "source": [
    "print('{{< pagebreak >}}\\n\\n')\n",
    "display(Markdown(f'# Fig-S{Fig} ^19^F-^13^C sofast-HMQC of PFOA'))\n",
    "Fig += 1\n",
    "\n"
   ]
  },
  {
   "cell_type": "markdown",
   "id": "01d9ed5e",
   "metadata": {},
   "source": [
    "A so-fast HMQC expermient was performed on PFOA.\n",
    "The experiment was performed with  spectral widthes of 100\\ kHz on ^19^F axis,\n",
    "and 25\\ kHz for ^13^C (165\\ ppm)\n",
    "The experiment was run in 4 scans, with 2k points acquisition and 368 increments, for a total acquisition time of 50\\ min.\n",
    "Processing was performed in magnitude with sine-bell apodisation and no zerofilling.\n",
    "\n",
    "![](HMQC-PFOA.pdf)\n",
    "The so-fast HMQC of PFOA\n",
    "\n",
    "\n",
    "![](PFOA HMQC z22.pdf) Zoom on the CF~3~ region\n",
    "\n",
    "![](PFOA HMQC z1.pdf)\n",
    "Zoom on the CF~2~ region\n",
    "\n",
    "\n"
   ]
  },
  {
   "cell_type": "code",
   "execution_count": 18,
   "id": "985c5481",
   "metadata": {
    "ExecuteTime": {
     "end_time": "2025-04-08T08:23:44.114099Z",
     "start_time": "2025-04-08T08:23:44.111507Z"
    }
   },
   "outputs": [
    {
     "name": "stdout",
     "output_type": "stream",
     "text": [
      "{{< pagebreak >}}\n",
      "\n",
      "\n"
     ]
    },
    {
     "data": {
      "text/markdown": [
       "# Fig-S11 ^19^F Spectra of commercial toothpastes"
      ],
      "text/plain": [
       "<IPython.core.display.Markdown object>"
      ]
     },
     "metadata": {},
     "output_type": "display_data"
    }
   ],
   "source": [
    "print('{{< pagebreak >}}\\n\\n')\n",
    "display(Markdown(f'# Fig-S{Fig} ^19^F Spectra of commercial toothpastes'))\n",
    "Fig += 1\n",
    "\n"
   ]
  },
  {
   "cell_type": "markdown",
   "id": "25ba7692",
   "metadata": {},
   "source": [
    "\n",
    "Spectra of commercial toothpastes illustrating different formulations with fluoride-based additives used to prevent tooth decay, including sodium fluoride (NaF), sodium monofluorophosphate (Na~2~PO~3~F), stannous fluoride (SnF~2~), and Olaflur, an alkyl-ammonium fluoride. These common additives reflect different strategies for enamel strengthening, caries prevention, and oral health maintenance, depending on the formulation’s specific goals\n",
    "\n",
    "![](toothpastes.pdf)\n"
   ]
  },
  {
   "cell_type": "code",
   "execution_count": null,
   "id": "d79209e1",
   "metadata": {},
   "outputs": [],
   "source": []
  }
 ],
 "metadata": {
  "kernelspec": {
   "display_name": "Python 3 (ipykernel)",
   "language": "python",
   "name": "python3"
  },
  "language_info": {
   "codemirror_mode": {
    "name": "ipython",
    "version": 3
   },
   "file_extension": ".py",
   "mimetype": "text/x-python",
   "name": "python",
   "nbconvert_exporter": "python",
   "pygments_lexer": "ipython3",
   "version": "3.11.7"
  },
  "varInspector": {
   "cols": {
    "lenName": 16,
    "lenType": 16,
    "lenVar": 40
   },
   "kernels_config": {
    "python": {
     "delete_cmd_postfix": "",
     "delete_cmd_prefix": "del ",
     "library": "var_list.py",
     "varRefreshCmd": "print(var_dic_list())"
    },
    "r": {
     "delete_cmd_postfix": ") ",
     "delete_cmd_prefix": "rm(",
     "library": "var_list.r",
     "varRefreshCmd": "cat(var_dic_list()) "
    }
   },
   "types_to_exclude": [
    "module",
    "function",
    "builtin_function_or_method",
    "instance",
    "_Feature"
   ],
   "window_display": false
  },
  "widgets": {
   "application/vnd.jupyter.widget-state+json": {
    "state": {},
    "version_major": 2,
    "version_minor": 0
   }
  }
 },
 "nbformat": 4,
 "nbformat_minor": 5
}
